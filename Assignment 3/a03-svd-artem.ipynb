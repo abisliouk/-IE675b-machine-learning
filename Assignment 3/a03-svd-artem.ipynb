{
 "cells": [
  {
   "cell_type": "code",
   "execution_count": 3,
   "id": "37fba92c",
   "metadata": {
    "collapsed": false
   },
   "outputs": [],
   "source": [
    "import numpy as np\n",
    "from numpy.linalg import svd, matrix_rank\n",
    "import pandas as pd\n",
    "import matplotlib.pyplot as plt\n",
    "from IPython import get_ipython\n",
    "from util import (\n",
    "    svdcomp,\n",
    "    nextplot,\n",
    "    plot_matrix,\n",
    "    plot_xy,\n",
    "    plot_cov,\n",
    "    match_categories,\n",
    ")  # see util.py\n",
    "from sklearn.cluster import KMeans\n",
    "\n",
    "# setup plotting\n",
    "import psutil\n",
    "inTerminal = not \"IPKernelApp\" in get_ipython().config\n",
    "inJupyterNb = any(filter(lambda x: x.endswith(\"jupyter-notebook\"), psutil.Process().parent().cmdline()))\n",
    "inJupyterLab = any(filter(lambda x: x.endswith(\"jupyter-lab\"), psutil.Process().parent().cmdline()))\n",
    "if not inJupyterLab:\n",
    "    from IPython import get_ipython\n",
    "    get_ipython().run_line_magic(\"matplotlib\", \"\" if inTerminal else \"notebook\" if inJupyterNb else \"widget\")"
   ]
  },
  {
   "cell_type": "markdown",
   "id": "5a9cc66d",
   "metadata": {},
   "source": [
    "# 1 Intuition on SVD"
   ]
  },
  {
   "cell_type": "code",
   "execution_count": 4,
   "id": "d6d29e9e",
   "metadata": {
    "collapsed": false
   },
   "outputs": [],
   "source": [
    "M1 = np.array(\n",
    "    [\n",
    "        [1, 1, 1, 0, 0],\n",
    "        [1, 1, 1, 0, 0],\n",
    "        [1, 1, 1, 0, 0],\n",
    "        [0, 0, 0, 0, 0],\n",
    "        [0, 0, 0, 0, 0],\n",
    "    ]\n",
    ")\n",
    "\n",
    "M2 = np.array(\n",
    "    [\n",
    "        [0, 0, 0, 0, 0],\n",
    "        [0, 2, 1, 2, 0],\n",
    "        [0, 2, 1, 2, 0],\n",
    "        [0, 2, 1, 2, 0],\n",
    "        [0, 0, 0, 0, 0],\n",
    "    ]\n",
    ")\n",
    "\n",
    "M3 = np.array([[0, 0, 0, 0], [0, 1, 1, 1], [0, 1, 1, 1], [0, 1, 1, 1], [0, 1, 1, 1]])\n",
    "\n",
    "M4 = np.array(\n",
    "    [\n",
    "        [1, 1, 1, 0, 0],\n",
    "        [1, 1, 1, 0, 0],\n",
    "        [1, 1, 1, 0, 0],\n",
    "        [0, 0, 0, 1, 1],\n",
    "        [0, 0, 0, 1, 1],\n",
    "    ]\n",
    ")\n",
    "\n",
    "M5 = np.array(\n",
    "    [\n",
    "        [1, 1, 1, 0, 0],\n",
    "        [1, 1, 1, 0, 0],\n",
    "        [1, 1, 1, 1, 1],\n",
    "        [0, 0, 1, 1, 1],\n",
    "        [0, 0, 1, 1, 1],\n",
    "    ]\n",
    ")\n",
    "\n",
    "M6 = np.array(\n",
    "    [\n",
    "        [1, 1, 1, 1, 1],\n",
    "        [1, 1, 1, 1, 1],\n",
    "        [1, 1, 0, 1, 1],\n",
    "        [1, 1, 1, 1, 1],\n",
    "        [1, 1, 1, 1, 1],\n",
    "    ]\n",
    ")"
   ]
  },
  {
   "cell_type": "markdown",
   "id": "65cefde2",
   "metadata": {},
   "source": [
    "## 1b"
   ]
  },
  {
   "cell_type": "code",
   "execution_count": 6,
   "id": "61107037",
   "metadata": {
    "collapsed": false
   },
   "outputs": [
    {
     "name": "stdout",
     "output_type": "stream",
     "text": [
      "==================================================\n",
      "SVD Results for Matrix M1:\n",
      "==================================================\n",
      "Matrix M1:\n",
      "[[1 1 1 0 0]\n",
      " [1 1 1 0 0]\n",
      " [1 1 1 0 0]\n",
      " [0 0 0 0 0]\n",
      " [0 0 0 0 0]]\n",
      "\n",
      "U (Left singular vectors):\n",
      "[[-5.77350269e-01  8.16496581e-01 -1.57496771e-16  0.00000000e+00\n",
      "   0.00000000e+00]\n",
      " [-5.77350269e-01 -4.08248290e-01 -7.07106781e-01  0.00000000e+00\n",
      "   0.00000000e+00]\n",
      " [-5.77350269e-01 -4.08248290e-01  7.07106781e-01  0.00000000e+00\n",
      "   0.00000000e+00]\n",
      " [ 0.00000000e+00  0.00000000e+00  0.00000000e+00  0.00000000e+00\n",
      "   1.00000000e+00]\n",
      " [ 0.00000000e+00  0.00000000e+00  0.00000000e+00  1.00000000e+00\n",
      "   0.00000000e+00]]\n",
      "\n",
      "Singular values (Diagonal elements of S):\n",
      "[3.00000000e+00 2.55806258e-17 2.11125548e-48 0.00000000e+00\n",
      " 0.00000000e+00]\n",
      "\n",
      "Vt (Right singular vectors):\n",
      "[[-0.57735027  0.81649658  0.          0.          0.        ]\n",
      " [-0.57735027 -0.40824829 -0.70710678  0.          0.        ]\n",
      " [-0.57735027 -0.40824829  0.70710678  0.          0.        ]\n",
      " [-0.          0.          0.          0.          1.        ]\n",
      " [-0.          0.          0.          1.          0.        ]]\n",
      "\n",
      "\n",
      "==================================================\n",
      "SVD Results for Matrix M2:\n",
      "==================================================\n",
      "Matrix M2:\n",
      "[[0 0 0 0 0]\n",
      " [0 2 1 2 0]\n",
      " [0 2 1 2 0]\n",
      " [0 2 1 2 0]\n",
      " [0 0 0 0 0]]\n",
      "\n",
      "U (Left singular vectors):\n",
      "[[ 0.00000000e+00  0.00000000e+00  0.00000000e+00  0.00000000e+00\n",
      "   1.00000000e+00]\n",
      " [-5.77350269e-01  8.16496581e-01 -2.21595527e-16  0.00000000e+00\n",
      "   0.00000000e+00]\n",
      " [-5.77350269e-01 -4.08248290e-01 -7.07106781e-01  0.00000000e+00\n",
      "   0.00000000e+00]\n",
      " [-5.77350269e-01 -4.08248290e-01  7.07106781e-01  0.00000000e+00\n",
      "   0.00000000e+00]\n",
      " [ 0.00000000e+00  0.00000000e+00  0.00000000e+00  1.00000000e+00\n",
      "   0.00000000e+00]]\n",
      "\n",
      "Singular values (Diagonal elements of S):\n",
      "[5.19615242e+00 4.67036192e-17 3.64967471e-48 0.00000000e+00\n",
      " 0.00000000e+00]\n",
      "\n",
      "Vt (Right singular vectors):\n",
      "[[-0.          0.          0.          0.          1.        ]\n",
      " [-0.66666667  0.74535599  0.          0.          0.        ]\n",
      " [-0.33333333 -0.2981424  -0.89442719  0.          0.        ]\n",
      " [-0.66666667 -0.59628479  0.4472136   0.          0.        ]\n",
      " [-0.          0.          0.          1.          0.        ]]\n",
      "\n",
      "\n",
      "==================================================\n",
      "SVD Results for Matrix M3:\n",
      "==================================================\n",
      "Matrix M3:\n",
      "[[0 0 0 0]\n",
      " [0 1 1 1]\n",
      " [0 1 1 1]\n",
      " [0 1 1 1]\n",
      " [0 1 1 1]]\n",
      "\n",
      "U (Left singular vectors):\n",
      "[[ 0.00000000e+00  0.00000000e+00  0.00000000e+00  1.00000000e+00\n",
      "   0.00000000e+00]\n",
      " [-5.00000000e-01  8.66025404e-01 -1.66533454e-16  0.00000000e+00\n",
      "  -4.16333634e-17]\n",
      " [-5.00000000e-01 -2.88675135e-01  8.16496581e-01  0.00000000e+00\n",
      "  -5.81681443e-17]\n",
      " [-5.00000000e-01 -2.88675135e-01 -4.08248290e-01  0.00000000e+00\n",
      "  -7.07106781e-01]\n",
      " [-5.00000000e-01 -2.88675135e-01 -4.08248290e-01  0.00000000e+00\n",
      "   7.07106781e-01]]\n",
      "\n",
      "Singular values (Diagonal elements of S):\n",
      "[3.46410162e+00 7.85046229e-17 3.26618704e-49 0.00000000e+00]\n",
      "\n",
      "Vt (Right singular vectors):\n",
      "[[-0.          0.          0.          1.        ]\n",
      " [-0.57735027  0.81649658  0.          0.        ]\n",
      " [-0.57735027 -0.40824829 -0.70710678  0.        ]\n",
      " [-0.57735027 -0.40824829  0.70710678  0.        ]]\n",
      "\n",
      "\n",
      "==================================================\n",
      "SVD Results for Matrix M4:\n",
      "==================================================\n",
      "Matrix M4:\n",
      "[[1 1 1 0 0]\n",
      " [1 1 1 0 0]\n",
      " [1 1 1 0 0]\n",
      " [0 0 0 1 1]\n",
      " [0 0 0 1 1]]\n",
      "\n",
      "U (Left singular vectors):\n",
      "[[-5.77350269e-01  0.00000000e+00  0.00000000e+00  8.16496581e-01\n",
      "  -1.57496771e-16]\n",
      " [-5.77350269e-01  0.00000000e+00  0.00000000e+00 -4.08248290e-01\n",
      "  -7.07106781e-01]\n",
      " [-5.77350269e-01  0.00000000e+00  0.00000000e+00 -4.08248290e-01\n",
      "   7.07106781e-01]\n",
      " [ 0.00000000e+00 -7.07106781e-01 -7.07106781e-01  0.00000000e+00\n",
      "   0.00000000e+00]\n",
      " [ 0.00000000e+00 -7.07106781e-01  7.07106781e-01  0.00000000e+00\n",
      "   0.00000000e+00]]\n",
      "\n",
      "Singular values (Diagonal elements of S):\n",
      "[3.00000000e+00 2.00000000e+00 3.35470445e-17 2.55806258e-17\n",
      " 2.11125548e-48]\n",
      "\n",
      "Vt (Right singular vectors):\n",
      "[[-0.57735027 -0.         -0.          0.81649658  0.        ]\n",
      " [-0.57735027 -0.         -0.         -0.40824829 -0.70710678]\n",
      " [-0.57735027 -0.         -0.         -0.40824829  0.70710678]\n",
      " [-0.         -0.70710678  0.70710678  0.          0.        ]\n",
      " [-0.         -0.70710678 -0.70710678  0.          0.        ]]\n",
      "\n",
      "\n",
      "==================================================\n",
      "SVD Results for Matrix M5:\n",
      "==================================================\n",
      "Matrix M5:\n",
      "[[1 1 1 0 0]\n",
      " [1 1 1 0 0]\n",
      " [1 1 1 1 1]\n",
      " [0 0 1 1 1]\n",
      " [0 0 1 1 1]]\n",
      "\n",
      "U (Left singular vectors):\n",
      "[[-3.94102719e-01 -5.00000000e-01  3.07706105e-01  7.07106781e-01\n",
      "  -7.78284580e-17]\n",
      " [-3.94102719e-01 -5.00000000e-01  3.07706105e-01 -7.07106781e-01\n",
      "   8.90009193e-17]\n",
      " [-6.15412209e-01 -1.38652485e-16 -7.88205438e-01  3.70081756e-18\n",
      "  -1.11724613e-17]\n",
      " [-3.94102719e-01  5.00000000e-01  3.07706105e-01  1.31421212e-17\n",
      "  -7.07106781e-01]\n",
      " [-3.94102719e-01  5.00000000e-01  3.07706105e-01  1.31421212e-17\n",
      "   7.07106781e-01]]\n",
      "\n",
      "Singular values (Diagonal elements of S):\n",
      "[3.56155281e+00 2.00000000e+00 5.61552813e-01 4.91793136e-17\n",
      " 3.69964287e-49]\n",
      "\n",
      "Vt (Right singular vectors):\n",
      "[[-3.94102719e-01 -5.00000000e-01 -3.07706105e-01  7.07106781e-01\n",
      "   0.00000000e+00]\n",
      " [-3.94102719e-01 -5.00000000e-01 -3.07706105e-01 -7.07106781e-01\n",
      "  -1.59738305e-18]\n",
      " [-6.15412209e-01 -2.03023610e-16  7.88205438e-01 -1.99101353e-16\n",
      "  -3.74617773e-17]\n",
      " [-3.94102719e-01  5.00000000e-01 -3.07706105e-01  4.46551847e-17\n",
      "  -7.07106781e-01]\n",
      " [-3.94102719e-01  5.00000000e-01 -3.07706105e-01  4.46551847e-17\n",
      "   7.07106781e-01]]\n",
      "\n",
      "\n",
      "==================================================\n",
      "SVD Results for Matrix M6:\n",
      "==================================================\n",
      "Matrix M6:\n",
      "[[1 1 1 1 1]\n",
      " [1 1 1 1 1]\n",
      " [1 1 0 1 1]\n",
      " [1 1 1 1 1]\n",
      " [1 1 1 1 1]]\n",
      "\n",
      "U (Left singular vectors):\n",
      "[[-4.61939766e-01 -1.91341716e-01  8.66024213e-01  1.43585580e-03\n",
      "  -6.53979252e-17]\n",
      " [-4.61939766e-01 -1.91341716e-01 -2.90028476e-01  8.16016840e-01\n",
      "  -2.28495382e-16]\n",
      " [-3.82683432e-01  9.23879533e-01  2.31316397e-19  4.33453405e-17\n",
      "  -8.63142633e-18]\n",
      " [-4.61939766e-01 -1.91341716e-01 -2.87997869e-01 -4.08726348e-01\n",
      "  -7.07106781e-01]\n",
      " [-4.61939766e-01 -1.91341716e-01 -2.87997869e-01 -4.08726348e-01\n",
      "   7.07106781e-01]]\n",
      "\n",
      "Singular values (Diagonal elements of S):\n",
      "[4.82842712e+00 8.28427125e-01 9.95090019e-17 2.18529703e-17\n",
      " 5.31822283e-50]\n",
      "\n",
      "Vt (Right singular vectors):\n",
      "[[-4.61939766e-01  1.91341716e-01  8.47659026e-01  1.77409629e-01\n",
      "   0.00000000e+00]\n",
      " [-4.61939766e-01  1.91341716e-01 -4.49816411e-01  7.40044051e-01\n",
      "  -8.19361931e-17]\n",
      " [-3.82683432e-01 -9.23879533e-01  4.08702351e-17 -3.17602784e-17\n",
      "   7.96038953e-19]\n",
      " [-4.61939766e-01  1.91341716e-01 -1.98921308e-01 -4.58726840e-01\n",
      "  -7.07106781e-01]\n",
      " [-4.61939766e-01  1.91341716e-01 -1.98921308e-01 -4.58726840e-01\n",
      "   7.07106781e-01]]\n",
      "\n",
      "\n"
     ]
    }
   ],
   "source": [
    "matrices = {\"M1\": M1, \"M2\": M2, \"M3\": M3, \"M4\": M4, \"M5\": M5, \"M6\": M6}\n",
    "\n",
    "for name, matrix in matrices.items():\n",
    "    # Compute the SVD\n",
    "    U, s, Vt = np.linalg.svd(matrix)\n",
    "    S = np.diag(s)\n",
    "    V = Vt.T\n",
    "    \n",
    "    # Display results\n",
    "    print(\"=\"*50)\n",
    "    print(f\"SVD Results for Matrix {name}:\")\n",
    "    print(\"=\"*50)\n",
    "    \n",
    "    print(f\"Matrix {name}:\")\n",
    "    print(matrix)\n",
    "    print(\"\\nU (Left singular vectors):\")\n",
    "    print(U)\n",
    "    print(\"\\nSingular values (Diagonal elements of S):\")\n",
    "    print(s)\n",
    "    print(\"\\nVt (Right singular vectors):\")\n",
    "    print(V)\n",
    "    print(\"\\n\")\n"
   ]
  },
  {
   "cell_type": "markdown",
   "id": "fadf51a6",
   "metadata": {},
   "source": [
    "## 1c"
   ]
  },
  {
   "cell_type": "code",
   "execution_count": null,
   "id": "ded47d33",
   "metadata": {
    "collapsed": false
   },
   "outputs": [],
   "source": [
    "# You can use the functions svdcomp and plot_matrix from util.py\n",
    "# YOUR PART"
   ]
  },
  {
   "cell_type": "markdown",
   "id": "0e70c7ac",
   "metadata": {},
   "source": [
    "## 1d"
   ]
  },
  {
   "cell_type": "code",
   "execution_count": null,
   "id": "94ad06c4",
   "metadata": {
    "collapsed": false
   },
   "outputs": [],
   "source": [
    "# Another method to compute the rank is matrix_rank.\n",
    "# YOUR PART"
   ]
  },
  {
   "cell_type": "markdown",
   "id": "82bc6b9e",
   "metadata": {},
   "source": [
    "# 2 The SVD on Weather Data"
   ]
  },
  {
   "cell_type": "code",
   "execution_count": null,
   "id": "9de809fe",
   "metadata": {
    "collapsed": false
   },
   "outputs": [],
   "source": [
    "# Load the data\n",
    "climate = pd.read_csv(\"data/worldclim.csv\")\n",
    "coord = pd.read_csv(\"data/worldclim_coordinates.csv\")\n",
    "lon = coord[\"lon\"]\n",
    "lat = coord[\"lat\"]"
   ]
  },
  {
   "cell_type": "code",
   "execution_count": null,
   "id": "f9929c28",
   "metadata": {
    "collapsed": false
   },
   "outputs": [],
   "source": [
    "# Plot the coordinates\n",
    "plot_xy(lon, lat)"
   ]
  },
  {
   "cell_type": "markdown",
   "id": "65290054",
   "metadata": {},
   "source": [
    "## 2a"
   ]
  },
  {
   "cell_type": "code",
   "execution_count": null,
   "id": "91f703a7",
   "metadata": {
    "collapsed": false
   },
   "outputs": [],
   "source": [
    "# YOUR PART\n",
    "# Normalize the data to z-scores. Store the result in X."
   ]
  },
  {
   "cell_type": "code",
   "execution_count": null,
   "id": "97d0199c",
   "metadata": {
    "collapsed": false
   },
   "outputs": [],
   "source": [
    "# Plot histograms of attributes\n",
    "nextplot()\n",
    "X.hist(ax=plt.gca())"
   ]
  },
  {
   "cell_type": "markdown",
   "id": "85aa4551",
   "metadata": {},
   "source": [
    "## 2b"
   ]
  },
  {
   "cell_type": "code",
   "execution_count": null,
   "id": "48f01405",
   "metadata": {
    "collapsed": false
   },
   "outputs": [],
   "source": [
    "# Compute the SVD of the normalized climate data and store it in variables U,s,Vt. What\n",
    "# is the rank of the data?\n",
    "# YOUR PART"
   ]
  },
  {
   "cell_type": "markdown",
   "id": "17425cc6",
   "metadata": {},
   "source": [
    "## 2c"
   ]
  },
  {
   "cell_type": "code",
   "execution_count": null,
   "id": "73ca2226",
   "metadata": {
    "collapsed": false
   },
   "outputs": [],
   "source": [
    "# Here is an example plot.\n",
    "plot_xy(lon, lat, U[:, 0])"
   ]
  },
  {
   "cell_type": "code",
   "execution_count": null,
   "id": "4b78ddcf",
   "metadata": {
    "collapsed": false
   },
   "outputs": [],
   "source": [
    "# For interpretation, it may also help to look at the other component matrices and\n",
    "# perhaps use other plot functions (e.g., plot_matrix).\n",
    "# YOUR PART"
   ]
  },
  {
   "cell_type": "markdown",
   "id": "a41779ea",
   "metadata": {},
   "source": [
    "## 2d"
   ]
  },
  {
   "cell_type": "code",
   "execution_count": null,
   "id": "3970c0c9",
   "metadata": {
    "collapsed": false
   },
   "outputs": [],
   "source": [
    "# Here is an example.\n",
    "plot_xy(U[:, 0], U[:, 1], lat - np.mean(lat))"
   ]
  },
  {
   "cell_type": "markdown",
   "id": "3aa41dd7",
   "metadata": {},
   "source": [
    "## 2e"
   ]
  },
  {
   "cell_type": "code",
   "execution_count": null,
   "id": "756efa68",
   "metadata": {
    "collapsed": false
   },
   "outputs": [],
   "source": [
    "# 2e(i) Guttman-Kaiser\n",
    "# YOUR PART"
   ]
  },
  {
   "cell_type": "code",
   "execution_count": null,
   "id": "aad2e425",
   "metadata": {
    "collapsed": false
   },
   "outputs": [],
   "source": [
    "# 2e(ii) 90% squared Frobenius norm\n",
    "# YOUR PART"
   ]
  },
  {
   "cell_type": "code",
   "execution_count": null,
   "id": "47afa659",
   "metadata": {
    "collapsed": false
   },
   "outputs": [],
   "source": [
    "# 2e(iv) entropy\n",
    "# YOUR PART"
   ]
  },
  {
   "cell_type": "code",
   "execution_count": null,
   "id": "a305e12c",
   "metadata": {
    "collapsed": false
   },
   "outputs": [],
   "source": [
    "# 2e(v) random flips\n",
    "# Random sign matrix: np.random.choice([-1,1], X.shape)\n",
    "# YOUR PART"
   ]
  },
  {
   "cell_type": "markdown",
   "id": "1dcb9c6e",
   "metadata": {},
   "source": [
    "## 2f"
   ]
  },
  {
   "cell_type": "code",
   "execution_count": null,
   "id": "66a10943",
   "metadata": {
    "collapsed": false
   },
   "outputs": [],
   "source": [
    "# Here is the empty plot that you need to fill (one line per choice of k: RSME between\n",
    "# original X and the reconstruction from size-k SVD of noisy versions)\n",
    "# YOUR PART\n",
    "nextplot()\n",
    "plt.plot()\n",
    "plt.xlabel(r\"Noise level ($\\epsilon$)\")\n",
    "plt.ylabel(\"Reconstruction RMSE vs. original data\")"
   ]
  },
  {
   "cell_type": "markdown",
   "id": "7cf29bb8",
   "metadata": {},
   "source": [
    "# 3 SVD and k-means"
   ]
  },
  {
   "cell_type": "code",
   "execution_count": null,
   "id": "c348de0e",
   "metadata": {
    "collapsed": false
   },
   "outputs": [],
   "source": [
    "# Cluster the normalized climate data into 5 clusters using k-means and store\n",
    "# the vector giving the cluster labels for each location.\n",
    "X_clusters = KMeans(5).fit(X).labels_"
   ]
  },
  {
   "cell_type": "markdown",
   "id": "de47161c",
   "metadata": {},
   "source": [
    "## 3a"
   ]
  },
  {
   "cell_type": "code",
   "execution_count": null,
   "id": "0ab6128a",
   "metadata": {
    "collapsed": false
   },
   "outputs": [],
   "source": [
    "# Plot the results to the map: use the cluster labels to give the color to each\n",
    "# point.\n",
    "plot_xy(lon, lat, X_clusters)"
   ]
  },
  {
   "cell_type": "markdown",
   "id": "f3a0f5e2",
   "metadata": {},
   "source": [
    "## 3b"
   ]
  },
  {
   "cell_type": "code",
   "execution_count": null,
   "id": "fcb4253f",
   "metadata": {
    "collapsed": false
   },
   "outputs": [],
   "source": [
    "# YOUR PART HERE"
   ]
  },
  {
   "cell_type": "markdown",
   "id": "f7f2a052",
   "metadata": {},
   "source": [
    "## 3c"
   ]
  },
  {
   "cell_type": "code",
   "execution_count": null,
   "id": "a38948ce",
   "metadata": {
    "collapsed": false
   },
   "outputs": [],
   "source": [
    "# Compute the PCA scores, store in Z (of shape N x k)\n",
    "k = 2\n",
    "# YOUR PART HERE"
   ]
  },
  {
   "cell_type": "code",
   "execution_count": null,
   "id": "0fa7e133",
   "metadata": {
    "collapsed": false
   },
   "outputs": [],
   "source": [
    "# cluster and visualize\n",
    "Z_clusters = KMeans(5).fit(Z).labels_\n",
    "# match clusters as well as possible (try without)\n",
    "Z_clusters = match_categories(X_clusters, Z_clusters)\n",
    "nextplot()\n",
    "axs = plt.gcf().subplots(1, 2)\n",
    "plot_xy(lon, lat, X_clusters, axis=axs[0])\n",
    "axs[0].set_title(\"Original data\")\n",
    "plot_xy(lon, lat, Z_clusters, axis=axs[1])\n",
    "axs[1].set_title(f\"PCA $(k={k}$)\")"
   ]
  }
 ],
 "metadata": {
  "kernelspec": {
   "display_name": "Python 3",
   "language": "python",
   "name": "python3"
  },
  "language_info": {
   "codemirror_mode": {
    "name": "ipython",
    "version": 3
   },
   "file_extension": ".py",
   "mimetype": "text/x-python",
   "name": "python",
   "nbconvert_exporter": "python",
   "pygments_lexer": "ipython3",
   "version": "3.11.5"
  }
 },
 "nbformat": 4,
 "nbformat_minor": 5
}
